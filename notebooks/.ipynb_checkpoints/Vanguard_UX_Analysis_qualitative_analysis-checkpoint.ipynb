{
 "cells": [
  {
   "cell_type": "code",
   "execution_count": 1,
   "id": "f049237c-d793-4825-bd3f-5a049a7c3b64",
   "metadata": {},
   "outputs": [],
   "source": [
    "import pandas as pd\n",
    "import numpy as np\n",
    "\n",
    "df_demo = pd.read_csv(r\"C:\\Users\\chuan\\Desktop\\Ironhack\\Week 5\\week 5&6 Project\\data\\raw\\df_final_demo.txt\")\n",
    "df_experiment_client = pd.read_csv(r\"C:\\Users\\chuan\\Desktop\\Ironhack\\Week 5\\week 5&6 Project\\data\\raw\\df_final_experiment_clients.txt\")\n",
    "df_web_data_1 = pd.read_csv(r\"C:\\Users\\chuan\\Desktop\\Ironhack\\Week 5\\week 5&6 Project\\data\\raw\\df_final_web_data_pt_1.txt\")\n",
    "df_web_data_2 = pd.read_csv(r\"C:\\Users\\chuan\\Desktop\\Ironhack\\Week 5\\week 5&6 Project\\data\\raw\\df_final_web_data_pt_2.txt\")"
   ]
  },
  {
   "cell_type": "code",
   "execution_count": 15,
   "id": "a483dec2-fa9f-4e48-a38c-7236c7873956",
   "metadata": {},
   "outputs": [],
   "source": [
    "# EDA & Data Cleaning \n",
    "# 1. Combination of 4 datasets \n",
    "#df = pd.concat([df_demo, df_experiment_client, df_web_data_1, df_web_data_2], ignore_index=True) # Checked all rows/columns combined \n",
    "#df.tail(10)"
   ]
  },
  {
   "cell_type": "code",
   "execution_count": 16,
   "id": "1fc8de18-5bad-4840-b5df-25c6ea74acd1",
   "metadata": {},
   "outputs": [],
   "source": [
    "#df.dtypes"
   ]
  },
  {
   "cell_type": "code",
   "execution_count": 4,
   "id": "a08738b3-25bb-4a7a-ab25-fd5041a87be2",
   "metadata": {},
   "outputs": [],
   "source": [
    "# 2. Map the consistancy of the name of columns \n",
    "df.columns=df.columns.str.replace('_', ' ').str.title()"
   ]
  },
  {
   "cell_type": "code",
   "execution_count": 14,
   "id": "3c3fd039-7b15-4a2f-af46-bb1bc93d1aa5",
   "metadata": {},
   "outputs": [
    {
     "data": {
      "text/plain": [
       "(885857, 14)"
      ]
     },
     "execution_count": 14,
     "metadata": {},
     "output_type": "execute_result"
    }
   ],
   "source": [
    "df.shape"
   ]
  },
  {
   "cell_type": "code",
   "execution_count": 5,
   "id": "672f1691-96e6-465e-b38f-317e16275266",
   "metadata": {},
   "outputs": [],
   "source": [
    "# 3. Drop Duplicates \n",
    "df.drop_duplicates(inplace=True)            "
   ]
  },
  {
   "cell_type": "code",
   "execution_count": 6,
   "id": "e003fded-678a-445e-a7bd-04ab24e99daa",
   "metadata": {},
   "outputs": [
    {
     "data": {
      "text/plain": [
       "Client Id                0\n",
       "Clnt Tenure Yr      815262\n",
       "Clnt Tenure Mnth    815262\n",
       "Clnt Age            815263\n",
       "Gendr               815262\n",
       "Num Accts           815262\n",
       "Bal                 815262\n",
       "Calls 6 Mnth        815262\n",
       "Logons 6 Mnth       815262\n",
       "Variation           835357\n",
       "Visitor Id          141216\n",
       "Visit Id            141216\n",
       "Process Step        141216\n",
       "Date Time           141216\n",
       "dtype: int64"
      ]
     },
     "execution_count": 6,
     "metadata": {},
     "output_type": "execute_result"
    }
   ],
   "source": [
    "# 4. Check and handle Missing Value \n",
    "# 4.1 Check \n",
    "df.isnull().sum()"
   ]
  },
  {
   "cell_type": "code",
   "execution_count": 7,
   "id": "c3343b48-495c-4e73-8111-5f71f25ef56f",
   "metadata": {},
   "outputs": [
    {
     "name": "stderr",
     "output_type": "stream",
     "text": [
      "C:\\Users\\chuan\\AppData\\Local\\Temp\\ipykernel_25484\\1285856364.py:10: FutureWarning: A value is trying to be set on a copy of a DataFrame or Series through chained assignment using an inplace method.\n",
      "The behavior will change in pandas 3.0. This inplace method will never work because the intermediate object on which we are setting values always behaves as a copy.\n",
      "\n",
      "For example, when doing 'df[col].method(value, inplace=True)', try using 'df.method({col: value}, inplace=True)' or df[col] = df[col].method(value) instead, to perform the operation inplace on the original object.\n",
      "\n",
      "\n",
      "  new_df[column].fillna(new_df[column].mean(), inplace=True)\n",
      "C:\\Users\\chuan\\AppData\\Local\\Temp\\ipykernel_25484\\1285856364.py:13: FutureWarning: A value is trying to be set on a copy of a DataFrame or Series through chained assignment using an inplace method.\n",
      "The behavior will change in pandas 3.0. This inplace method will never work because the intermediate object on which we are setting values always behaves as a copy.\n",
      "\n",
      "For example, when doing 'df[col].method(value, inplace=True)', try using 'df.method({col: value}, inplace=True)' or df[col] = df[col].method(value) instead, to perform the operation inplace on the original object.\n",
      "\n",
      "\n",
      "  new_df[column].fillna(\"Unknown\", inplace=True)\n"
     ]
    },
    {
     "data": {
      "text/html": [
       "<div>\n",
       "<style scoped>\n",
       "    .dataframe tbody tr th:only-of-type {\n",
       "        vertical-align: middle;\n",
       "    }\n",
       "\n",
       "    .dataframe tbody tr th {\n",
       "        vertical-align: top;\n",
       "    }\n",
       "\n",
       "    .dataframe thead th {\n",
       "        text-align: right;\n",
       "    }\n",
       "</style>\n",
       "<table border=\"1\" class=\"dataframe\">\n",
       "  <thead>\n",
       "    <tr style=\"text-align: right;\">\n",
       "      <th></th>\n",
       "      <th>Client Id</th>\n",
       "      <th>Clnt Tenure Yr</th>\n",
       "      <th>Clnt Tenure Mnth</th>\n",
       "      <th>Clnt Age</th>\n",
       "      <th>Gendr</th>\n",
       "      <th>Num Accts</th>\n",
       "      <th>Bal</th>\n",
       "      <th>Calls 6 Mnth</th>\n",
       "      <th>Logons 6 Mnth</th>\n",
       "      <th>Variation</th>\n",
       "      <th>Visitor Id</th>\n",
       "      <th>Visit Id</th>\n",
       "      <th>Process Step</th>\n",
       "      <th>Date Time</th>\n",
       "    </tr>\n",
       "  </thead>\n",
       "  <tbody>\n",
       "    <tr>\n",
       "      <th>0</th>\n",
       "      <td>836976</td>\n",
       "      <td>6.00000</td>\n",
       "      <td>73.000000</td>\n",
       "      <td>60.50000</td>\n",
       "      <td>U</td>\n",
       "      <td>2.000000</td>\n",
       "      <td>45105.300000</td>\n",
       "      <td>6.000000</td>\n",
       "      <td>9.00000</td>\n",
       "      <td>Unknown</td>\n",
       "      <td>Unknown</td>\n",
       "      <td>Unknown</td>\n",
       "      <td>Unknown</td>\n",
       "      <td>Unknown</td>\n",
       "    </tr>\n",
       "    <tr>\n",
       "      <th>1</th>\n",
       "      <td>2304905</td>\n",
       "      <td>7.00000</td>\n",
       "      <td>94.000000</td>\n",
       "      <td>58.00000</td>\n",
       "      <td>U</td>\n",
       "      <td>2.000000</td>\n",
       "      <td>110860.300000</td>\n",
       "      <td>6.000000</td>\n",
       "      <td>9.00000</td>\n",
       "      <td>Unknown</td>\n",
       "      <td>Unknown</td>\n",
       "      <td>Unknown</td>\n",
       "      <td>Unknown</td>\n",
       "      <td>Unknown</td>\n",
       "    </tr>\n",
       "    <tr>\n",
       "      <th>2</th>\n",
       "      <td>1439522</td>\n",
       "      <td>5.00000</td>\n",
       "      <td>64.000000</td>\n",
       "      <td>32.00000</td>\n",
       "      <td>U</td>\n",
       "      <td>2.000000</td>\n",
       "      <td>52467.790000</td>\n",
       "      <td>6.000000</td>\n",
       "      <td>9.00000</td>\n",
       "      <td>Unknown</td>\n",
       "      <td>Unknown</td>\n",
       "      <td>Unknown</td>\n",
       "      <td>Unknown</td>\n",
       "      <td>Unknown</td>\n",
       "    </tr>\n",
       "    <tr>\n",
       "      <th>3</th>\n",
       "      <td>1562045</td>\n",
       "      <td>16.00000</td>\n",
       "      <td>198.000000</td>\n",
       "      <td>49.00000</td>\n",
       "      <td>M</td>\n",
       "      <td>2.000000</td>\n",
       "      <td>67454.650000</td>\n",
       "      <td>3.000000</td>\n",
       "      <td>6.00000</td>\n",
       "      <td>Unknown</td>\n",
       "      <td>Unknown</td>\n",
       "      <td>Unknown</td>\n",
       "      <td>Unknown</td>\n",
       "      <td>Unknown</td>\n",
       "    </tr>\n",
       "    <tr>\n",
       "      <th>4</th>\n",
       "      <td>5126305</td>\n",
       "      <td>12.00000</td>\n",
       "      <td>145.000000</td>\n",
       "      <td>33.00000</td>\n",
       "      <td>F</td>\n",
       "      <td>2.000000</td>\n",
       "      <td>103671.750000</td>\n",
       "      <td>0.000000</td>\n",
       "      <td>3.00000</td>\n",
       "      <td>Unknown</td>\n",
       "      <td>Unknown</td>\n",
       "      <td>Unknown</td>\n",
       "      <td>Unknown</td>\n",
       "      <td>Unknown</td>\n",
       "    </tr>\n",
       "    <tr>\n",
       "      <th>...</th>\n",
       "      <td>...</td>\n",
       "      <td>...</td>\n",
       "      <td>...</td>\n",
       "      <td>...</td>\n",
       "      <td>...</td>\n",
       "      <td>...</td>\n",
       "      <td>...</td>\n",
       "      <td>...</td>\n",
       "      <td>...</td>\n",
       "      <td>...</td>\n",
       "      <td>...</td>\n",
       "      <td>...</td>\n",
       "      <td>...</td>\n",
       "      <td>...</td>\n",
       "    </tr>\n",
       "    <tr>\n",
       "      <th>896618</th>\n",
       "      <td>9668240</td>\n",
       "      <td>12.05295</td>\n",
       "      <td>150.659367</td>\n",
       "      <td>46.44224</td>\n",
       "      <td>Unknown</td>\n",
       "      <td>2.255528</td>\n",
       "      <td>147445.240641</td>\n",
       "      <td>3.382478</td>\n",
       "      <td>5.56674</td>\n",
       "      <td>Unknown</td>\n",
       "      <td>388766751_9038881013</td>\n",
       "      <td>922267647_3096648104_968866</td>\n",
       "      <td>start</td>\n",
       "      <td>2017-05-24 18:46:10</td>\n",
       "    </tr>\n",
       "    <tr>\n",
       "      <th>896619</th>\n",
       "      <td>9668240</td>\n",
       "      <td>12.05295</td>\n",
       "      <td>150.659367</td>\n",
       "      <td>46.44224</td>\n",
       "      <td>Unknown</td>\n",
       "      <td>2.255528</td>\n",
       "      <td>147445.240641</td>\n",
       "      <td>3.382478</td>\n",
       "      <td>5.56674</td>\n",
       "      <td>Unknown</td>\n",
       "      <td>388766751_9038881013</td>\n",
       "      <td>922267647_3096648104_968866</td>\n",
       "      <td>start</td>\n",
       "      <td>2017-05-24 18:45:29</td>\n",
       "    </tr>\n",
       "    <tr>\n",
       "      <th>896620</th>\n",
       "      <td>9668240</td>\n",
       "      <td>12.05295</td>\n",
       "      <td>150.659367</td>\n",
       "      <td>46.44224</td>\n",
       "      <td>Unknown</td>\n",
       "      <td>2.255528</td>\n",
       "      <td>147445.240641</td>\n",
       "      <td>3.382478</td>\n",
       "      <td>5.56674</td>\n",
       "      <td>Unknown</td>\n",
       "      <td>388766751_9038881013</td>\n",
       "      <td>922267647_3096648104_968866</td>\n",
       "      <td>step_1</td>\n",
       "      <td>2017-05-24 18:44:51</td>\n",
       "    </tr>\n",
       "    <tr>\n",
       "      <th>896621</th>\n",
       "      <td>9668240</td>\n",
       "      <td>12.05295</td>\n",
       "      <td>150.659367</td>\n",
       "      <td>46.44224</td>\n",
       "      <td>Unknown</td>\n",
       "      <td>2.255528</td>\n",
       "      <td>147445.240641</td>\n",
       "      <td>3.382478</td>\n",
       "      <td>5.56674</td>\n",
       "      <td>Unknown</td>\n",
       "      <td>388766751_9038881013</td>\n",
       "      <td>922267647_3096648104_968866</td>\n",
       "      <td>start</td>\n",
       "      <td>2017-05-24 18:44:34</td>\n",
       "    </tr>\n",
       "    <tr>\n",
       "      <th>896622</th>\n",
       "      <td>674799</td>\n",
       "      <td>12.05295</td>\n",
       "      <td>150.659367</td>\n",
       "      <td>46.44224</td>\n",
       "      <td>Unknown</td>\n",
       "      <td>2.255528</td>\n",
       "      <td>147445.240641</td>\n",
       "      <td>3.382478</td>\n",
       "      <td>5.56674</td>\n",
       "      <td>Unknown</td>\n",
       "      <td>947159805_81558194550</td>\n",
       "      <td>86152093_47511127657_716022</td>\n",
       "      <td>start</td>\n",
       "      <td>2017-06-03 12:17:09</td>\n",
       "    </tr>\n",
       "  </tbody>\n",
       "</table>\n",
       "<p>885857 rows × 14 columns</p>\n",
       "</div>"
      ],
      "text/plain": [
       "        Client Id  Clnt Tenure Yr  Clnt Tenure Mnth  Clnt Age    Gendr  \\\n",
       "0          836976         6.00000         73.000000  60.50000        U   \n",
       "1         2304905         7.00000         94.000000  58.00000        U   \n",
       "2         1439522         5.00000         64.000000  32.00000        U   \n",
       "3         1562045        16.00000        198.000000  49.00000        M   \n",
       "4         5126305        12.00000        145.000000  33.00000        F   \n",
       "...           ...             ...               ...       ...      ...   \n",
       "896618    9668240        12.05295        150.659367  46.44224  Unknown   \n",
       "896619    9668240        12.05295        150.659367  46.44224  Unknown   \n",
       "896620    9668240        12.05295        150.659367  46.44224  Unknown   \n",
       "896621    9668240        12.05295        150.659367  46.44224  Unknown   \n",
       "896622     674799        12.05295        150.659367  46.44224  Unknown   \n",
       "\n",
       "        Num Accts            Bal  Calls 6 Mnth  Logons 6 Mnth Variation  \\\n",
       "0        2.000000   45105.300000      6.000000        9.00000   Unknown   \n",
       "1        2.000000  110860.300000      6.000000        9.00000   Unknown   \n",
       "2        2.000000   52467.790000      6.000000        9.00000   Unknown   \n",
       "3        2.000000   67454.650000      3.000000        6.00000   Unknown   \n",
       "4        2.000000  103671.750000      0.000000        3.00000   Unknown   \n",
       "...           ...            ...           ...            ...       ...   \n",
       "896618   2.255528  147445.240641      3.382478        5.56674   Unknown   \n",
       "896619   2.255528  147445.240641      3.382478        5.56674   Unknown   \n",
       "896620   2.255528  147445.240641      3.382478        5.56674   Unknown   \n",
       "896621   2.255528  147445.240641      3.382478        5.56674   Unknown   \n",
       "896622   2.255528  147445.240641      3.382478        5.56674   Unknown   \n",
       "\n",
       "                   Visitor Id                     Visit Id Process Step  \\\n",
       "0                     Unknown                      Unknown      Unknown   \n",
       "1                     Unknown                      Unknown      Unknown   \n",
       "2                     Unknown                      Unknown      Unknown   \n",
       "3                     Unknown                      Unknown      Unknown   \n",
       "4                     Unknown                      Unknown      Unknown   \n",
       "...                       ...                          ...          ...   \n",
       "896618   388766751_9038881013  922267647_3096648104_968866        start   \n",
       "896619   388766751_9038881013  922267647_3096648104_968866        start   \n",
       "896620   388766751_9038881013  922267647_3096648104_968866       step_1   \n",
       "896621   388766751_9038881013  922267647_3096648104_968866        start   \n",
       "896622  947159805_81558194550  86152093_47511127657_716022        start   \n",
       "\n",
       "                  Date Time  \n",
       "0                   Unknown  \n",
       "1                   Unknown  \n",
       "2                   Unknown  \n",
       "3                   Unknown  \n",
       "4                   Unknown  \n",
       "...                     ...  \n",
       "896618  2017-05-24 18:46:10  \n",
       "896619  2017-05-24 18:45:29  \n",
       "896620  2017-05-24 18:44:51  \n",
       "896621  2017-05-24 18:44:34  \n",
       "896622  2017-06-03 12:17:09  \n",
       "\n",
       "[885857 rows x 14 columns]"
      ]
     },
     "metadata": {},
     "output_type": "display_data"
    }
   ],
   "source": [
    "# 4.2 Replace missing values \n",
    "# --> Float values with the mean value of their respective columns: 'clnt_tenure_yr', 'clnt_tenure_mnth', 'clnt_age', 'num_accts', 'float64', 'bal', 'calls_6_mnth', 'logons_6_mnth'\n",
    "# --> Object (string) values with \"Unknown\": ‘gendr’, 'Variation', 'visitor_id', 'visit_id', 'process_step', 'object', 'date_time'  \n",
    "\n",
    "def replace_missing_value(df):\n",
    "    # Create a copy of the original DataFrame\n",
    "    new_df = df.copy()\n",
    "    \n",
    "    for column in new_df.select_dtypes(include=[np.float64]):\n",
    "        new_df[column].fillna(new_df[column].mean(), inplace=True)\n",
    "\n",
    "    for column in new_df.select_dtypes(include=[object]):\n",
    "        new_df[column].fillna(\"Unknown\", inplace=True)\n",
    "    \n",
    "    display(new_df)\n",
    "\n",
    "    return new_df\n",
    "\n",
    "new_df = replace_missing_value(df)"
   ]
  },
  {
   "cell_type": "markdown",
   "id": "8dd76beb-c446-4497-bc3f-1561e9dd8a51",
   "metadata": {},
   "source": [
    "--> Client behavior analysis\n",
    "\n",
    "Answer the following questions about demographics:\n",
    "\n",
    "1. Who are the primary clients using this online process?\n",
    "\n",
    "2. Are the primary clients younger or older, new or long-standing?\n",
    "\n",
    "Next, carry out a client behaviour analysis to answer any additional relevant questions you think are important."
   ]
  },
  {
   "cell_type": "code",
   "execution_count": 8,
   "id": "8d26a806-9753-462e-ae5e-6ff99b47e716",
   "metadata": {},
   "outputs": [
    {
     "data": {
      "text/plain": [
       "count    885857.000000\n",
       "mean         12.052950\n",
       "std           1.939876\n",
       "min           2.000000\n",
       "25%          12.052950\n",
       "50%          12.052950\n",
       "75%          12.052950\n",
       "max          62.000000\n",
       "Name: Clnt Tenure Yr, dtype: float64"
      ]
     },
     "execution_count": 8,
     "metadata": {},
     "output_type": "execute_result"
    }
   ],
   "source": [
    "# Demographic description of clients \n",
    "# 1. The tenure of clients \n",
    "# 1.1 The average tenure year \n",
    "new_df['Clnt Tenure Yr'].describe()"
   ]
  },
  {
   "cell_type": "code",
   "execution_count": 9,
   "id": "c4af4b97-7991-4dac-b5b5-0f83cbbc69d1",
   "metadata": {},
   "outputs": [
    {
     "data": {
      "text/plain": [
       "count    885857.000000\n",
       "mean        150.659367\n",
       "std          23.173510\n",
       "min          33.000000\n",
       "25%         150.659367\n",
       "50%         150.659367\n",
       "75%         150.659367\n",
       "max         749.000000\n",
       "Name: Clnt Tenure Mnth, dtype: float64"
      ]
     },
     "execution_count": 9,
     "metadata": {},
     "output_type": "execute_result"
    }
   ],
   "source": [
    "# 1.2 The average tenure month \n",
    "new_df['Clnt Tenure Mnth'].describe()"
   ]
  },
  {
   "cell_type": "code",
   "execution_count": 10,
   "id": "518f7070-b501-4862-8416-3faf4f453809",
   "metadata": {},
   "outputs": [
    {
     "data": {
      "text/plain": [
       "Gendr\n",
       "Unknown    815262\n",
       "U           24122\n",
       "M           23724\n",
       "F           22746\n",
       "X               3\n",
       "Name: count, dtype: int64"
      ]
     },
     "execution_count": 10,
     "metadata": {},
     "output_type": "execute_result"
    }
   ],
   "source": [
    "# 1.3 Gender ratio \n",
    "new_df['Gendr'].value_counts()"
   ]
  },
  {
   "cell_type": "code",
   "execution_count": 11,
   "id": "48b609c1-8921-4d03-a9de-26a24b137053",
   "metadata": {},
   "outputs": [
    {
     "data": {
      "text/plain": [
       "count    885857.000000\n",
       "mean         46.442240\n",
       "std           4.401298\n",
       "min          13.500000\n",
       "25%          46.442240\n",
       "50%          46.442240\n",
       "75%          46.442240\n",
       "max          96.000000\n",
       "Name: Clnt Age, dtype: float64"
      ]
     },
     "execution_count": 11,
     "metadata": {},
     "output_type": "execute_result"
    }
   ],
   "source": [
    "# 1.4 Age distribution of clients \n",
    "new_df['Clnt Age'].describe()"
   ]
  },
  {
   "cell_type": "code",
   "execution_count": 12,
   "id": "a45c2932-51c9-447b-83b8-60d66cb69017",
   "metadata": {},
   "outputs": [
    {
     "data": {
      "text/plain": [
       "Variation\n",
       "Test       0.53402\n",
       "Control    0.46598\n",
       "Name: count, dtype: float64"
      ]
     },
     "execution_count": 12,
     "metadata": {},
     "output_type": "execute_result"
    }
   ],
   "source": [
    "# AB test variation\n",
    "variation_counts = df['Variation'].value_counts()\n",
    "variation_proportion = variation_counts/variation_counts.sum()\n",
    "variation_proportion"
   ]
  },
  {
   "cell_type": "markdown",
   "id": "9878cc97-5465-41db-944f-f087d6129bc2",
   "metadata": {},
   "source": [
    "Client behavior analysis\n",
    "\n",
    "1. Client tunure: The average client tunure year is 12, which converts into 150 months.\n",
    "\n",
    "2. Gender ratio: one third each of men, women and unisex.\n",
    "\n",
    "3. The age range of the clients is from 13 to 96, the average age of the users is 46, which are middle-aged people. "
   ]
  },
  {
   "cell_type": "code",
   "execution_count": 13,
   "id": "a11d45e3-a698-4989-8141-ae72478e149d",
   "metadata": {},
   "outputs": [
    {
     "data": {
      "text/plain": [
       "Process Step\n",
       "start      234999\n",
       "step_1     162797\n",
       "Unknown    141216\n",
       "step_2     132750\n",
       "step_3     111589\n",
       "confirm    102506\n",
       "Name: count, dtype: int64"
      ]
     },
     "execution_count": 13,
     "metadata": {},
     "output_type": "execute_result"
    }
   ],
   "source": [
    "# Define Metrics and KPIs \n",
    "\n",
    "# 1. Completion rate: confirm counted as complete the process \n",
    "new_df['Process Step'].value_counts()"
   ]
  }
 ],
 "metadata": {
  "kernelspec": {
   "display_name": "m2_venv",
   "language": "python",
   "name": "m2_venv"
  },
  "language_info": {
   "codemirror_mode": {
    "name": "ipython",
    "version": 3
   },
   "file_extension": ".py",
   "mimetype": "text/x-python",
   "name": "python",
   "nbconvert_exporter": "python",
   "pygments_lexer": "ipython3",
   "version": "3.11.7"
  }
 },
 "nbformat": 4,
 "nbformat_minor": 5
}
